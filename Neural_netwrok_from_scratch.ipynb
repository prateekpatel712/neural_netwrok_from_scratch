{
 "cells": [
  {
   "cell_type": "code",
   "execution_count": null,
   "id": "8a85c2d0-7b90-4e64-9681-c82630db2c3e",
   "metadata": {},
   "outputs": [],
   "source": [
    "import numpy as np\n",
    "import matplotlib.pyplot as plt"
   ]
  },
  {
   "cell_type": "code",
   "execution_count": null,
   "id": "b527e19b-48fb-4379-bc1c-a90812c00d37",
   "metadata": {},
   "outputs": [],
   "source": [
    "# --- 1. Data Definition (5x6 Resolution) ---\n",
    "A = np.array([\n",
    "    0, 1, 1, 1, 1, 0,\n",
    "    1, 0, 0, 0, 0, 1,\n",
    "    1, 1, 1, 1, 1, 1,\n",
    "    1, 0, 0, 0, 0, 1,\n",
    "    1, 0, 0, 0, 0, 1\n",
    "])\n",
    "\n",
    "B = np.array([\n",
    "    1, 1, 1, 1, 1, 0,\n",
    "    1, 0, 0, 0, 0, 1,\n",
    "    1, 1, 1, 1, 1, 0,\n",
    "    1, 0, 0, 0, 0, 1,\n",
    "    1, 1, 1, 1, 1, 0\n",
    "])\n",
    "\n",
    "C = np.array([\n",
    "    0, 1, 1, 1, 1, 1,\n",
    "    1, 0, 0, 0, 0, 0,\n",
    "    1, 0, 0, 0, 0, 0,\n",
    "    1, 0, 0, 0, 0, 0,\n",
    "    0, 1, 1, 1, 1, 1\n",
    "])"
   ]
  },
  {
   "cell_type": "code",
   "execution_count": null,
   "id": "63743795-0c6e-41a3-bba9-8dc02c7a3b11",
   "metadata": {},
   "outputs": [],
   "source": [
    "# --- 2. Prepare Training Data ---\n",
    "X = np.array([A, B, C])\n",
    "y = np.array([[1, 0, 0], [0, 1, 0], [0, 0, 1]])"
   ]
  },
  {
   "cell_type": "code",
   "execution_count": null,
   "id": "8bba9258-9591-4033-a668-8d56f9703be1",
   "metadata": {},
   "outputs": [],
   "source": [
    "# --- 3. Neural Network Implementation ---\n",
    "def sigmoid(x):\n",
    "    \"\"\"Computes the sigmoid of x.\"\"\"\n",
    "    return 1 / (1 + np.exp(-x))"
   ]
  },
  {
   "cell_type": "code",
   "execution_count": null,
   "id": "311cd2f6-27e0-4d2b-89ec-7f1c43ecffe3",
   "metadata": {},
   "outputs": [],
   "source": [
    "# Derivative of the sigmoid function for backpropagation\n",
    "def sigmoid_derivative(x):\n",
    "    \"\"\"Computes the derivative of the sigmoid function.\"\"\"\n",
    "    return x * (1 - x)"
   ]
  },
  {
   "cell_type": "code",
   "execution_count": null,
   "id": "6f15bc70-e04e-4c8d-8570-db8063649b1f",
   "metadata": {},
   "outputs": [],
   "source": [
    "# --- 4. Network Configuration and Initialization ---\n",
    "input_neurons = X.shape[1]   # 30 neurons \n",
    "hidden_neurons = 5           # Number of neurons in the hidden layer\n",
    "output_neurons = y.shape[1]  # 3 neurons \n",
    "learning_rate = 0.1\n",
    "epochs = 10000\n"
   ]
  },
  {
   "cell_type": "code",
   "execution_count": null,
   "id": "3b695fbd-a7a0-49d3-b1a7-69fb4052082a",
   "metadata": {},
   "outputs": [],
   "source": [
    "np.random.seed(42)"
   ]
  },
  {
   "cell_type": "code",
   "execution_count": null,
   "id": "2de6185d-53dd-40fc-a359-0f62e20a5762",
   "metadata": {},
   "outputs": [],
   "source": [
    "# Initialize weights with random values\n",
    "weights_hidden = np.random.uniform(size=(input_neurons, hidden_neurons))\n",
    "weights_output = np.random.uniform(size=(hidden_neurons, output_neurons))"
   ]
  },
  {
   "cell_type": "code",
   "execution_count": null,
   "id": "3cc5a97d-3561-4f45-93df-a8b32df3c4af",
   "metadata": {},
   "outputs": [],
   "source": [
    "losses = []\n",
    "accuracies = []"
   ]
  },
  {
   "cell_type": "code",
   "execution_count": null,
   "id": "8753dc7f-6090-4025-bf79-4adf198c55db",
   "metadata": {},
   "outputs": [],
   "source": [
    "#--- 5. Training the Neural Network ---\n",
    "for epoch in range(epochs):\n",
    "    # --- Feedforward ---\n",
    "    hidden_layer_input = np.dot(X, weights_hidden)\n",
    "    hidden_layer_output = sigmoid(hidden_layer_input)\n",
    "    \n",
    "    output_layer_input = np.dot(hidden_layer_output, weights_output)\n",
    "    predicted_output = sigmoid(output_layer_input)\n",
    "    \n",
    "    # --- Backpropagation ---\n",
    "    error = y - predicted_output\n",
    "    d_predicted_output = error * sigmoid_derivative(predicted_output)\n",
    "    \n",
    "    error_hidden_layer = d_predicted_output.dot(weights_output.T)\n",
    "    d_hidden_layer = error_hidden_layer * sigmoid_derivative(hidden_layer_output)\n",
    "    \n",
    "    # --- Update Weights ---\n",
    "    weights_output += hidden_layer_output.T.dot(d_predicted_output) * learning_rate\n",
    "    weights_hidden += X.T.dot(d_hidden_layer) * learning_rate\n",
    "    \n",
    "    # --- Track Performance ---\n",
    "    loss = np.mean(np.square(error))\n",
    "    losses.append(loss)\n",
    "\n",
    "    predictions = np.argmax(predicted_output, axis=1)\n",
    "    true_labels = np.argmax(y, axis=1)\n",
    "    accuracy = np.mean(predictions == true_labels)\n",
    "    accuracies.append(accuracy)\n",
    "    \n",
    "    if epoch % 1000 == 0:\n",
    "        print(f\"Epoch {epoch}, Loss: {loss:.4f}, Accuracy: {accuracy:.4f}\")\n"
   ]
  },
  {
   "cell_type": "code",
   "execution_count": null,
   "id": "388adcb3-cc42-48f0-84f4-86be2d690180",
   "metadata": {},
   "outputs": [],
   "source": [
    "# --- 6. Visualize Training Results ---\n",
    "plt.figure(figsize=(12, 5))\n",
    "\n",
    "plt.subplot(1, 2, 1)\n",
    "plt.plot(losses)\n",
    "plt.title('Loss over Epochs')\n",
    "plt.xlabel('Epochs')\n",
    "plt.ylabel('Loss')\n",
    "plt.grid(True)\n",
    "plt.savefig('loss_plot.png')"
   ]
  },
  {
   "cell_type": "code",
   "execution_count": null,
   "id": "65bdb0aa-db3d-4d44-b000-b7036bbae09d",
   "metadata": {},
   "outputs": [],
   "source": [
    "plt.figure(figsize=(12, 5))\n",
    "\n",
    "plt.subplot(1, 2, 2)\n",
    "plt.plot(accuracies)\n",
    "plt.title('Accuracy over Epochs')\n",
    "plt.xlabel('Epochs')\n",
    "plt.ylabel('Accuracy')\n",
    "plt.grid(True)\n",
    "plt.savefig('accuracy_plot.png')"
   ]
  },
  {
   "cell_type": "code",
   "execution_count": null,
   "id": "f4a84b0f-0c8d-4713-a1ec-4807caa3f027",
   "metadata": {},
   "outputs": [],
   "source": [
    "# --- 7. Test the Trained Model ---\n",
    "test_letter = B\n",
    "test_letter_name = \"B\""
   ]
  },
  {
   "cell_type": "code",
   "execution_count": null,
   "id": "13403dab-07d7-40d4-b977-441e36cdf6ab",
   "metadata": {},
   "outputs": [],
   "source": [
    "hidden_layer_input_test = np.dot(test_letter, weights_hidden)\n",
    "hidden_layer_output_test = sigmoid(hidden_layer_input_test)\n",
    "output_layer_input_test = np.dot(hidden_layer_output_test, weights_output)\n",
    "predicted_output_test = sigmoid(output_layer_input_test)"
   ]
  },
  {
   "cell_type": "code",
   "execution_count": null,
   "id": "f9a5feb2-d109-4b29-9772-0eeb6452d4fa",
   "metadata": {},
   "outputs": [],
   "source": [
    "predicted_class_index = np.argmax(predicted_output_test)\n",
    "class_labels = ['A', 'B', 'C']\n",
    "predicted_letter = class_labels[predicted_class_index]"
   ]
  },
  {
   "cell_type": "code",
   "execution_count": null,
   "id": "c6972e6d-20fb-45d6-9b14-726d5cfb1cd0",
   "metadata": {},
   "outputs": [],
   "source": [
    "print(f\"\\n--- Prediction ---\")\n",
    "print(f\"The predicted class for the input letter '{test_letter_name}' is: {predicted_letter}\")"
   ]
  },
  {
   "cell_type": "code",
   "execution_count": null,
   "id": "3bb8a266-64b8-4168-9b5b-c6c55362eb7d",
   "metadata": {},
   "outputs": [],
   "source": [
    "# Visualize the test letter and its prediction\n",
    "plt.figure(figsize=(2, 2))\n",
    "plt.imshow(test_letter.reshape(5, 6), cmap='gray_r')\n",
    "plt.title(f'Predicted: {predicted_letter}')\n",
    "plt.axis('off')\n",
    "plt.savefig('prediction.png')\n",
    "plt.show()"
   ]
  },
  {
   "cell_type": "code",
   "execution_count": null,
   "id": "c05daa22-0981-4712-b264-40d8aadf3531",
   "metadata": {},
   "outputs": [],
   "source": []
  }
 ],
 "metadata": {
  "kernelspec": {
   "display_name": "Python [conda env:base] *",
   "language": "python",
   "name": "conda-base-py"
  },
  "language_info": {
   "codemirror_mode": {
    "name": "ipython",
    "version": 3
   },
   "file_extension": ".py",
   "mimetype": "text/x-python",
   "name": "python",
   "nbconvert_exporter": "python",
   "pygments_lexer": "ipython3",
   "version": "3.12.3"
  }
 },
 "nbformat": 4,
 "nbformat_minor": 5
}
